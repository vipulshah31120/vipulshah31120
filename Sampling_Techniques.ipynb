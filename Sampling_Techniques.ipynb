{
  "nbformat": 4,
  "nbformat_minor": 0,
  "metadata": {
    "colab": {
      "provenance": [],
      "authorship_tag": "ABX9TyP9klNTV70C7iuKikhkMCam",
      "include_colab_link": true
    },
    "kernelspec": {
      "name": "python3",
      "display_name": "Python 3"
    },
    "language_info": {
      "name": "python"
    }
  },
  "cells": [
    {
      "cell_type": "markdown",
      "metadata": {
        "id": "view-in-github",
        "colab_type": "text"
      },
      "source": [
        "<a href=\"https://colab.research.google.com/github/vipulshah31120/vipulshah31120/blob/main/Sampling_Techniques.ipynb\" target=\"_parent\"><img src=\"https://colab.research.google.com/assets/colab-badge.svg\" alt=\"Open In Colab\"/></a>"
      ]
    },
    {
      "cell_type": "markdown",
      "source": [
        "## **Probability Distribution Sampling**\n",
        "Probability sampling is a method of selecting a sample from a population in a way that each member of the population has an equal and known chance of being selected.\n",
        "\n",
        "This means that every individual in the population has a fair and unbiased opportunity of being chosen for the sample, which increases the reliability and validity of the results obtained from the sample.\n",
        "\n",
        "There are different types of probability sampling, few of them are undermentioned:"
      ],
      "metadata": {
        "id": "v7sdCuAaotyU"
      }
    },
    {
      "cell_type": "markdown",
      "source": [
        "### **i) Simple Random Sampling:**\n",
        "\n",
        "**Theory**: In this technique, each member of the population is assigned a unique number, and a sample is selected by using a random number generator or a table of random numbers. One big advantage of this technique is that it is the most direct method of probability sampling."
      ],
      "metadata": {
        "id": "yvU_vuOxo9Cq"
      }
    },
    {
      "cell_type": "code",
      "execution_count": 1,
      "metadata": {
        "colab": {
          "base_uri": "https://localhost:8080/"
        },
        "id": "8S1IcDeWomQu",
        "outputId": "2898fa5c-81aa-449f-cc46-e9d7aa099b8a"
      },
      "outputs": [
        {
          "output_type": "stream",
          "name": "stdout",
          "text": [
            "Simple random sampling of 10 numbers are:  [4, 91, 62, 46, 73, 25, 11, 23, 49, 96]\n"
          ]
        }
      ],
      "source": [
        "#importing the random module\n",
        "import random\n",
        "#defining the population from where sample will be created\n",
        "population = list(range(1, 100))\n",
        "#defining the size of sample\n",
        "sample_size = 10\n",
        "#perform simple random sampling by using the random.sample() function\n",
        "sample = random.sample(population, sample_size)\n",
        "#it will print 10 random numbers within the range provided\n",
        "print(\"Simple random sampling of 10 numbers are: \", sample)\n",
        "\n",
        "##output:\n",
        "##Simple random sampling of 10 numbers are:  [40, 34, 60, 96, 8, 95, 94, 73, 93, 26]"
      ]
    },
    {
      "cell_type": "markdown",
      "source": [
        "### **ii) Systematic Sampling:**\n",
        "\n",
        "**Theory**: Systematic sampling or interval sampling is a probability sampling technique used to select a sample from a population in a systematic way.\n",
        "\n",
        " In systematic sampling, the population is first ordered in some way, and then every nth individual is selected for inclusion in the sample, where “n” is a predetermined sampling interval. For example, if the sampling interval is 5, then every 5th individual in the population will be selected for inclusion in the sample."
      ],
      "metadata": {
        "id": "QmArC2BppQEx"
      }
    },
    {
      "cell_type": "code",
      "source": [
        "import numpy as np\n",
        "\n",
        "# Define the population\n",
        "population = np.arange(1, 100)\n",
        "\n",
        "# Define the sample size and sampling interval\n",
        "# We can provide sample size and sampling interval as per user\n",
        "# Here sampling interval is 9 (99//10 = 9)\n",
        "\n",
        "sample_size = 10\n",
        "sampling_interval = len(population) // sample_size\n",
        "\n",
        "# Define the starting point of the sample\n",
        "# refer to https://numpy.org/doc/stable/reference/random/generated/numpy.random.randint.html for random.randint()\n",
        "\n",
        "start_point = np.random.randint(0, sampling_interval)\n",
        "\n",
        "# Perform systematic sampling\n",
        "sample = population[start_point::sampling_interval]\n",
        "\n",
        "# Print the sample\n",
        "print(\"Systematic or interval sampling of 10 numbers are: \",sample)\n",
        "\n",
        "##Output:\n",
        "##Systematic or interval sampling of 10 numbers are: [ 6 15 24 33 42 51 60 69 78 87 96]\n",
        "##Random numbers are generated from integer 6 with 9th interger as 15"
      ],
      "metadata": {
        "colab": {
          "base_uri": "https://localhost:8080/"
        },
        "id": "nzDib2KnpYAH",
        "outputId": "7078622d-8171-489e-c16f-f86ba2bfb3d3"
      },
      "execution_count": 2,
      "outputs": [
        {
          "output_type": "stream",
          "name": "stdout",
          "text": [
            "Systematic or interval sampling of 10 numbers are:  [ 9 18 27 36 45 54 63 72 81 90 99]\n"
          ]
        }
      ]
    },
    {
      "cell_type": "markdown",
      "source": [
        "### **iii) Stratified Sampling:**\n",
        "\n",
        "**Theory**: When the population is having distinct categories or sub-groups then the sample frame can be categorized as independent ‘strata’. Each strata is then sampled as an independent sub-population, out of which individual elements can be randomly selected. Such sub-population are called stratified sampling.\n",
        "\n",
        "A meaningful real world example of stratified sampling would be political survey. A town is having a population based on different races, religion, gender, education, cultures etc. A stratified sampling based on these factors could thus claim to be more representative of the population than a survey of simple random sampling or systematic sampling."
      ],
      "metadata": {
        "id": "7vXZCaNqpdxz"
      }
    },
    {
      "cell_type": "code",
      "source": [
        "import pandas as pd\n",
        "from sklearn.model_selection import train_test_split\n",
        "\n",
        "# Load the data into a Pandas DataFrame\n",
        "data=pd.read_csv(\"https://raw.githubusercontent.com/ayan-zz/Statistics_python/main/titanic.csv\")\n",
        "\n",
        "# Specify the stratification variable\n",
        "stratify_by = 'Sex'\n",
        "\n",
        "# Split the data into training and testing sets, with stratification\n",
        "train, test = train_test_split(data, test_size=0.3, stratify=data[stratify_by])\n",
        "\n",
        "# Check the distribution of the stratification variable in the training and testing sets\n",
        "print(\"Train dataset:\\n\", train[stratify_by].value_counts())\n",
        "print(\"Test dataset:\\n\", test[stratify_by].value_counts())"
      ],
      "metadata": {
        "colab": {
          "base_uri": "https://localhost:8080/"
        },
        "id": "y-ePw9KxpkAV",
        "outputId": "49d545f9-c4ae-4e76-f36a-462e0286f214"
      },
      "execution_count": 3,
      "outputs": [
        {
          "output_type": "stream",
          "name": "stdout",
          "text": [
            "Train dataset:\n",
            " Sex\n",
            "male      403\n",
            "female    220\n",
            "Name: count, dtype: int64\n",
            "Test dataset:\n",
            " Sex\n",
            "male      174\n",
            "female     94\n",
            "Name: count, dtype: int64\n"
          ]
        }
      ]
    },
    {
      "cell_type": "markdown",
      "source": [
        "### **iv) Cluster Sampling:**\n",
        "\n",
        "**Theory**: The cluster sampling of population is only performed when a heterogeneous group or cluster is evident in a population. The clusters selected must be mutually exclusive and collectively exhaustive, which will be a small representative of the population.\n",
        "\n",
        "A sample of group is selected by simple random sampling between the clusters. All the elements within the cluster and group are included in the study. This is called first stage clustering of sampling. Further more if a random sampling technique is applied to the elements from each of the selected clusters then it is called second stage sampling. For example, customer survey of a MNC.\n",
        "\n",
        "A company wants to conduct a survey to gather feedback from its customers. The company has a database of customer addresses, and it divides the database into clusters based on geographic location. Then, a random sample of these clusters is selected, and all the customers within the selected clusters are surveyed."
      ],
      "metadata": {
        "id": "ri-SfahRpr2C"
      }
    },
    {
      "cell_type": "code",
      "source": [
        "import random\n",
        "\n",
        "# create a list of population data\n",
        "population_data = [10, 15, 20, 26, 29, 33, 35, 37, 41, 42, 46, 48, 50, 52, 55, 58, 61, 64, 68, 72]\n",
        "\n",
        "# set the desired cluster size\n",
        "cluster_size = 5\n",
        "\n",
        "# randomly select a starting point for the first cluster\n",
        "starting_point = random.randint(0, cluster_size + 1)\n",
        "\n",
        "# create a list to store the sampled data\n",
        "sampled_data = []\n",
        "\n",
        "# loop through the population data by clusters of size cluster_size\n",
        "for i in range(starting_point, len(population_data), cluster_size):\n",
        "    # append the data from the current cluster to the sampled data list\n",
        "    sampled_data.append(population_data[i+1:i+cluster_size])\n",
        "\n",
        "# print the sampled data\n",
        "print(starting_point)\n",
        "print(sampled_data)"
      ],
      "metadata": {
        "colab": {
          "base_uri": "https://localhost:8080/"
        },
        "id": "okwvIMsgp0Ph",
        "outputId": "3a22cf7e-39ea-40f7-d58f-a92567a29957"
      },
      "execution_count": 4,
      "outputs": [
        {
          "output_type": "stream",
          "name": "stdout",
          "text": [
            "5\n",
            "[[35, 37, 41, 42], [48, 50, 52, 55], [61, 64, 68, 72]]\n"
          ]
        }
      ]
    }
  ]
}