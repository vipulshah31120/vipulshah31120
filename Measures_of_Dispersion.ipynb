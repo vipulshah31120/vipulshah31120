{
  "nbformat": 4,
  "nbformat_minor": 0,
  "metadata": {
    "colab": {
      "provenance": [],
      "authorship_tag": "ABX9TyPpnky0rPFqFriH0/9CcaGz",
      "include_colab_link": true
    },
    "kernelspec": {
      "name": "python3",
      "display_name": "Python 3"
    },
    "language_info": {
      "name": "python"
    }
  },
  "cells": [
    {
      "cell_type": "markdown",
      "metadata": {
        "id": "view-in-github",
        "colab_type": "text"
      },
      "source": [
        "<a href=\"https://colab.research.google.com/github/vipulshah31120/vipulshah31120/blob/main/Measures_of_Dispersion.ipynb\" target=\"_parent\"><img src=\"https://colab.research.google.com/assets/colab-badge.svg\" alt=\"Open In Colab\"/></a>"
      ]
    },
    {
      "cell_type": "markdown",
      "source": [
        "## **Exploring Measures of Dispersion and Skewness: Variance, Standard Deviation, IQR, and More! 📊**"
      ],
      "metadata": {
        "id": "xUlbXbv9BQ1-"
      }
    },
    {
      "cell_type": "markdown",
      "source": [
        "### **1. Variance:**\n",
        "\n",
        "**Definition**: Measures the average squared deviation from the mean.\n",
        "\n",
        "**Why it’s important:** High variance indicates that data points are spread out, while low variance suggests they are close to the mean.\n",
        "\n",
        "**Example**: Exam scores of students in a class; high variance means scores are widely spread.\n"
      ],
      "metadata": {
        "id": "EU_BA9z6BZEF"
      }
    },
    {
      "cell_type": "code",
      "source": [
        "import numpy as np\n",
        "data = [10, 20, 30, 40, 50]\n",
        "variance = np.var(data)\n",
        "print(\"Variance:\", variance)\n"
      ],
      "metadata": {
        "colab": {
          "base_uri": "https://localhost:8080/"
        },
        "id": "X-YbcGS0BeKS",
        "outputId": "687d92c0-f0e6-4f2e-9a4d-00fdd6555fd7"
      },
      "execution_count": 1,
      "outputs": [
        {
          "output_type": "stream",
          "name": "stdout",
          "text": [
            "Variance: 200.0\n"
          ]
        }
      ]
    },
    {
      "cell_type": "markdown",
      "source": [
        "### **2. Standard Deviation (SD):**\n",
        "\n",
        "**Definition**: The square root of variance, giving a measure of spread in the same units as the data.\n",
        "\n",
        "**Why it’s important:** Easier to interpret as it’s in the same unit as the data points.\n",
        "\n",
        "**Example:** Daily temperature variations; a low SD means temperatures are consistently close to the mean."
      ],
      "metadata": {
        "id": "BBxMtMF-Bhn-"
      }
    },
    {
      "cell_type": "code",
      "source": [
        "std_dev = np.std(data)\n",
        "print(\"Standard Deviation:\", std_dev)"
      ],
      "metadata": {
        "colab": {
          "base_uri": "https://localhost:8080/"
        },
        "id": "lvvLeiJ_BsX9",
        "outputId": "d9e75d71-153e-45ed-b651-06b219112b97"
      },
      "execution_count": 2,
      "outputs": [
        {
          "output_type": "stream",
          "name": "stdout",
          "text": [
            "Standard Deviation: 14.142135623730951\n"
          ]
        }
      ]
    },
    {
      "cell_type": "markdown",
      "source": [
        "### **3. Interquartile Range (IQR):**\n",
        "\n",
        "**Definition**: The range between the first quartile (25th percentile) and the third quartile (75th percentile).\n",
        "\n",
        "**Why it’s important:** Measures the spread of the middle 50% of the data, reducing the impact of outliers.\n",
        "\n",
        "**Example**: House prices in a city; IQR can show the price range of the middle-tier homes."
      ],
      "metadata": {
        "id": "t8RN-bleBv7G"
      }
    },
    {
      "cell_type": "code",
      "source": [
        "q75, q25 = np.percentile(data, [75, 25])\n",
        "iqr = q75 - q25\n",
        "print(\"IQR:\", iqr)\n"
      ],
      "metadata": {
        "colab": {
          "base_uri": "https://localhost:8080/"
        },
        "id": "V8VJ-A3iB2_l",
        "outputId": "f53e0e41-3bb8-45dd-910e-b312af0c44fc"
      },
      "execution_count": 3,
      "outputs": [
        {
          "output_type": "stream",
          "name": "stdout",
          "text": [
            "IQR: 20.0\n"
          ]
        }
      ]
    },
    {
      "cell_type": "markdown",
      "source": [
        "### **4. Skewness:**\n",
        "\n",
        "**Definition**: Indicates the asymmetry of the data distribution.\n",
        "\n",
        "**Types:**\n",
        "Positive Skew: Tail on the right (mean > median).\n",
        "Negative Skew: Tail on the left (mean < median).\n",
        "\n",
        "**Why it’s important**: Helps understand data symmetry and potential outliers.\n",
        "\n",
        "**Example**: Income distribution; often positively skewed with a few high incomes pulling the mean.\n"
      ],
      "metadata": {
        "id": "W-4MtmTiB6Sh"
      }
    },
    {
      "cell_type": "code",
      "source": [
        "from scipy.stats import skew\n",
        "skewness = skew(data)\n",
        "print(\"Skewness:\", skewness)\n"
      ],
      "metadata": {
        "colab": {
          "base_uri": "https://localhost:8080/"
        },
        "id": "hwgwYB9MCWky",
        "outputId": "8f8cfdad-f9bf-4e86-b371-f56e5d50c5a6"
      },
      "execution_count": 4,
      "outputs": [
        {
          "output_type": "stream",
          "name": "stdout",
          "text": [
            "Skewness: 0.0\n"
          ]
        }
      ]
    }
  ]
}